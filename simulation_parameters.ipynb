{
 "cells": [
  {
   "cell_type": "code",
   "execution_count": null,
   "id": "5c797831-3219-474f-8b77-e8ba8248ce84",
   "metadata": {},
   "outputs": [],
   "source": [
    "#Multiple protein complexes, 5 proteins\n",
    "#Low signal and high noise \n",
    "num_complex = np.zeros((5,5))\n",
    "num_complex[0,0] = 300\n",
    "num_complex[0,1] = 150\n",
    "num_complex[1,0] = 150\n",
    "num_complex[0,2] = 200\n",
    "num_complex[2,0] = 200\n",
    "num_complex[1,1] = 300\n",
    "num_complex[2,2] = 200\n",
    "num_complex[0,3] = 100\n",
    "num_complex[3,0] = 100\n",
    "\n",
    "probeA = np.array([3000,1000,3000,1000,1000])\n",
    "probeB = np.array([3000,1000,3000,1000,1000])"
   ]
  },
  {
   "cell_type": "code",
   "execution_count": null,
   "id": "2a067367-0fa2-416f-8054-4793139b5bc5",
   "metadata": {},
   "outputs": [],
   "source": [
    "#Multiple protein complexes, 5 proteins\n",
    "#high signal and low noise \n",
    "num_complex = np.zeros((5,5))\n",
    "num_complex[0,0] = 3000\n",
    "num_complex[0,1] = 1500\n",
    "num_complex[1,0] = 1500\n",
    "num_complex[0,1] = 1500\n",
    "num_complex[0,2] = 2000\n",
    "num_complex[2,0] = 2000\n",
    "num_complex[0,3] = 1000\n",
    "num_complex[3,0] = 1000\n",
    "num_complex[1,1] = 3000\n",
    "num_complex[2,2] = 2000\n",
    "\n",
    "probeA = np.array([30,30,20,10,10])\n",
    "probeB = np.array([30,30,20,10,10])"
   ]
  },
  {
   "cell_type": "code",
   "execution_count": null,
   "id": "b4b323c2-9a50-42f5-9755-996299ff0be0",
   "metadata": {},
   "outputs": [],
   "source": [
    "#Multiple protein complexes, 3 proteins\n",
    "#similar signal and noises \n",
    "num_complex = np.zeros((3,3))\n",
    "num_complex[0,0] = 1000\n",
    "num_complex[0,1] = 500\n",
    "num_complex[1,0] = 500\n",
    "num_complex[2,0] = 500\n",
    "num_complex[0,2] = 500\n",
    "num_complex[1,1] = 1000\n",
    "num_complex[1,2] = 500\n",
    "num_complex[2,1] = 500\n",
    "num_complex[2,2] = 1000\n",
    "probeAB = np.array([500,500,500])"
   ]
  },
  {
   "cell_type": "code",
   "execution_count": null,
   "id": "61afcc69-9102-49ae-9e97-164f01a38771",
   "metadata": {},
   "outputs": [],
   "source": [
    "#Multiple protein complexes, 3 proteins\n",
    "#high signal and low noise \n",
    "num_complex = np.zeros((3,3))\n",
    "num_complex[0,0] = 1000\n",
    "num_complex[0,1] = 500\n",
    "num_complex[1,0] = 500\n",
    "num_complex[2,0] = 500\n",
    "num_complex[0,2] = 500\n",
    "num_complex[1,1] = 1000\n",
    "num_complex[1,2] = 500\n",
    "num_complex[2,1] = 500\n",
    "num_complex[2,2] = 1000\n",
    "probeAB = np.array([50,50,50])"
   ]
  },
  {
   "cell_type": "code",
   "execution_count": null,
   "id": "bf0d89cd-c1e5-43cf-8116-f6fffb0b6003",
   "metadata": {},
   "outputs": [],
   "source": [
    "#Multiple protein complexes, 3 proteins\n",
    "#high noise and low signal \n",
    "num_complex = np.zeros((3,3))\n",
    "num_complex[0,0] = 100\n",
    "num_complex[0,1] = 50\n",
    "num_complex[1,0] = 50\n",
    "num_complex[2,0] = 50\n",
    "num_complex[0,2] = 50\n",
    "num_complex[1,1] = 100\n",
    "num_complex[1,2] = 50\n",
    "num_complex[2,1] = 50\n",
    "num_complex[2,2] = 100\n",
    "probeAB = np.array([1000,1000,1000])"
   ]
  },
  {
   "cell_type": "code",
   "execution_count": null,
   "id": "78f12e15-4501-4acc-b263-d161d32123b3",
   "metadata": {},
   "outputs": [],
   "source": [
    "#Only homodimers, 3 proteins\n",
    "#high signal and low noise with only homodimers\n",
    "num_complex = np.zeros((3,3))\n",
    "num_complex[0,0] = 3000\n",
    "num_complex[1,1] = 2000\n",
    "num_complex[2,2] = 1000\n",
    "probeAB = np.array([30,20,10])"
   ]
  },
  {
   "cell_type": "code",
   "execution_count": null,
   "id": "792da876-8ba8-4fad-a69c-59c35bc3651c",
   "metadata": {},
   "outputs": [],
   "source": [
    "#Only homodimers, 3 proteins\n",
    "#high noise and low signal with only homodimers\n",
    "num_complex = np.zeros((3,3))\n",
    "num_complex[0,0] = 300\n",
    "num_complex[1,1] = 200\n",
    "num_complex[2,2] = 100\n",
    "probeAB = np.array([3000,2000,1000])"
   ]
  },
  {
   "cell_type": "code",
   "execution_count": null,
   "id": "47936f56-5b19-46b0-ad7d-df824b116fda",
   "metadata": {},
   "outputs": [],
   "source": [
    "#Only heterodimers, 3 proteins\n",
    "#high noise and low signal with only heterodimers\n",
    "num_complex = np.zeros((3,3))\n",
    "num_complex[0,1] = 300\n",
    "num_complex[1,0] = 300\n",
    "num_complex[0,2] = 200\n",
    "num_complex[2,0] = 200\n",
    "num_complex[1,2] = 100\n",
    "num_complex[2,1] = 100\n",
    "probeAB = np.array([3000,2000,1000])"
   ]
  },
  {
   "cell_type": "code",
   "execution_count": null,
   "id": "25693a43-1095-43d5-ae08-a253f2041cca",
   "metadata": {},
   "outputs": [],
   "source": [
    "#Only heterodimers, 3 proteins\n",
    "#high signal and low noise with only heterodimers\n",
    "num_complex = np.zeros((3,3))\n",
    "num_complex[0,1] = 3000\n",
    "num_complex[1,0] = 3000\n",
    "num_complex[0,2] = 2000\n",
    "num_complex[2,0] = 2000\n",
    "num_complex[1,2] = 1000\n",
    "num_complex[2,1] = 1000\n",
    "probeAB = np.array([30,20,10])"
   ]
  },
  {
   "cell_type": "code",
   "execution_count": null,
   "id": "15b1d4ec-27e1-49c6-b938-219ff73ce62f",
   "metadata": {},
   "outputs": [],
   "source": [
    "#One over-abundant protein forming complexes, 3 proteins\n",
    "#high signal and low noise with 1 protein forming complexes \n",
    "num_complex = np.zeros((3,3))\n",
    "num_complex[0,0] = 3000\n",
    "num_complex[0,1] = 2000\n",
    "num_complex[1,0] = 2000\n",
    "num_complex[0,2] = 1000\n",
    "num_complex[2,0] = 1000\n",
    "probeAB = np.array([30,20,10])"
   ]
  },
  {
   "cell_type": "code",
   "execution_count": null,
   "id": "6e55dfb1-97c1-4e90-ab6e-a9200d349843",
   "metadata": {},
   "outputs": [],
   "source": [
    "#One over-abundant protein forming complexes, 3 proteins\n",
    "#high noise and low signal with 1 protein forming complexes \n",
    "num_complex = np.zeros((3,3))\n",
    "num_complex[0,0] = 300\n",
    "num_complex[0,1] = 200\n",
    "num_complex[1,0] = 200\n",
    "num_complex[0,2] = 100\n",
    "num_complex[2,0] = 100\n",
    "probeAB = np.array([3000,2000,1000])"
   ]
  },
  {
   "cell_type": "code",
   "execution_count": null,
   "id": "0c563577-1846-49fc-8f07-5ef8c0952ed4",
   "metadata": {},
   "outputs": [],
   "source": [
    "#One over-abundant protein forming only homodimer, 3 proteins\n",
    "#high noise and low signal with 1 protein forming homodimers\n",
    "num_complex = np.zeros((3,3))\n",
    "num_complex[0,0] = 300\n",
    "probeAB = np.array([3000,2000,1000])"
   ]
  },
  {
   "cell_type": "code",
   "execution_count": null,
   "id": "92f2652a-15cb-4522-bbf8-78e9b58e9dd8",
   "metadata": {},
   "outputs": [],
   "source": [
    "#One over-abundant protein forming only homodimer, 3 proteins\n",
    "#high signal and low noise with 1 protein forming homodimers\n",
    "num_complex = np.zeros((3,3))\n",
    "num_complex[0,0] = 3000\n",
    "probeAB = np.array([30,200,100])"
   ]
  }
 ],
 "metadata": {
  "kernelspec": {
   "display_name": "Python 3 (ipykernel)",
   "language": "python",
   "name": "python3"
  },
  "language_info": {
   "codemirror_mode": {
    "name": "ipython",
    "version": 3
   },
   "file_extension": ".py",
   "mimetype": "text/x-python",
   "name": "python",
   "nbconvert_exporter": "python",
   "pygments_lexer": "ipython3",
   "version": "3.9.16"
  }
 },
 "nbformat": 4,
 "nbformat_minor": 5
}
